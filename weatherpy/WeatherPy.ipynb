{
 "cells": [
  {
   "cell_type": "markdown",
   "metadata": {},
   "source": [
    "# WeatherPy\n",
    "----\n",
    "\n",
    "#### Note\n",
    "* Instructions have been included for each segment. You do not have to follow them exactly, but they are included to help you think through the steps."
   ]
  },
  {
   "cell_type": "code",
   "execution_count": 54,
   "metadata": {
    "scrolled": true
   },
   "outputs": [],
   "source": [
    "# Dependencies and Setup\n",
    "import matplotlib.pyplot as plt\n",
    "import pandas as pd\n",
    "import numpy as np\n",
    "import requests\n",
    "import time\n",
    "from scipy.stats import linregress\n",
    "\n",
    "# Import API key\n",
    "from api_keys import weather_api_key\n",
    "\n",
    "# Incorporated citipy to determine city based on latitude and longitude\n",
    "from citipy import citipy\n",
    "\n",
    "# Output File (CSV)\n",
    "output_data_file = \"/Users/bader/Desktop/BootCamp_HW_Assignments/HW6(API)/python_api_challenge/weatherpy/cities.csv\"\n",
    "\n",
    "# Range of latitudes and longitudes\n",
    "lat_range = (-90, 90)\n",
    "lng_range = (-180, 180)"
   ]
  },
  {
   "cell_type": "code",
   "execution_count": 55,
   "metadata": {},
   "outputs": [
    {
     "data": {
      "text/html": [
       "<div>\n",
       "<style scoped>\n",
       "    .dataframe tbody tr th:only-of-type {\n",
       "        vertical-align: middle;\n",
       "    }\n",
       "\n",
       "    .dataframe tbody tr th {\n",
       "        vertical-align: top;\n",
       "    }\n",
       "\n",
       "    .dataframe thead th {\n",
       "        text-align: right;\n",
       "    }\n",
       "</style>\n",
       "<table border=\"1\" class=\"dataframe\">\n",
       "  <thead>\n",
       "    <tr style=\"text-align: right;\">\n",
       "      <th></th>\n",
       "      <th>City_ID</th>\n",
       "      <th>City</th>\n",
       "      <th>Cloudiness</th>\n",
       "      <th>Country</th>\n",
       "      <th>Date</th>\n",
       "      <th>Humidity</th>\n",
       "      <th>Lat</th>\n",
       "      <th>Lng</th>\n",
       "      <th>Max Temp</th>\n",
       "      <th>Wind Speed</th>\n",
       "    </tr>\n",
       "  </thead>\n",
       "  <tbody>\n",
       "    <tr>\n",
       "      <th>0</th>\n",
       "      <td>0</td>\n",
       "      <td>ostrovnoy</td>\n",
       "      <td>2</td>\n",
       "      <td>RU</td>\n",
       "      <td>1558378754</td>\n",
       "      <td>72</td>\n",
       "      <td>68.05</td>\n",
       "      <td>39.51</td>\n",
       "      <td>37.50</td>\n",
       "      <td>7.16</td>\n",
       "    </tr>\n",
       "    <tr>\n",
       "      <th>1</th>\n",
       "      <td>1</td>\n",
       "      <td>mahebourg</td>\n",
       "      <td>75</td>\n",
       "      <td>MU</td>\n",
       "      <td>1558378503</td>\n",
       "      <td>74</td>\n",
       "      <td>-20.41</td>\n",
       "      <td>57.70</td>\n",
       "      <td>78.80</td>\n",
       "      <td>11.41</td>\n",
       "    </tr>\n",
       "    <tr>\n",
       "      <th>2</th>\n",
       "      <td>2</td>\n",
       "      <td>qaanaaq</td>\n",
       "      <td>25</td>\n",
       "      <td>GL</td>\n",
       "      <td>1558378755</td>\n",
       "      <td>73</td>\n",
       "      <td>77.48</td>\n",
       "      <td>-69.36</td>\n",
       "      <td>22.20</td>\n",
       "      <td>2.37</td>\n",
       "    </tr>\n",
       "    <tr>\n",
       "      <th>3</th>\n",
       "      <td>3</td>\n",
       "      <td>zhuhai</td>\n",
       "      <td>0</td>\n",
       "      <td>CN</td>\n",
       "      <td>1558378755</td>\n",
       "      <td>39</td>\n",
       "      <td>40.71</td>\n",
       "      <td>112.04</td>\n",
       "      <td>44.60</td>\n",
       "      <td>4.47</td>\n",
       "    </tr>\n",
       "    <tr>\n",
       "      <th>4</th>\n",
       "      <td>4</td>\n",
       "      <td>cape town</td>\n",
       "      <td>20</td>\n",
       "      <td>ZA</td>\n",
       "      <td>1558378755</td>\n",
       "      <td>76</td>\n",
       "      <td>-33.93</td>\n",
       "      <td>18.42</td>\n",
       "      <td>55.99</td>\n",
       "      <td>8.05</td>\n",
       "    </tr>\n",
       "    <tr>\n",
       "      <th>...</th>\n",
       "      <td>...</td>\n",
       "      <td>...</td>\n",
       "      <td>...</td>\n",
       "      <td>...</td>\n",
       "      <td>...</td>\n",
       "      <td>...</td>\n",
       "      <td>...</td>\n",
       "      <td>...</td>\n",
       "      <td>...</td>\n",
       "      <td>...</td>\n",
       "    </tr>\n",
       "    <tr>\n",
       "      <th>543</th>\n",
       "      <td>543</td>\n",
       "      <td>yabrud</td>\n",
       "      <td>0</td>\n",
       "      <td>SY</td>\n",
       "      <td>1558378840</td>\n",
       "      <td>32</td>\n",
       "      <td>33.97</td>\n",
       "      <td>36.66</td>\n",
       "      <td>80.60</td>\n",
       "      <td>8.05</td>\n",
       "    </tr>\n",
       "    <tr>\n",
       "      <th>544</th>\n",
       "      <td>544</td>\n",
       "      <td>paraiso</td>\n",
       "      <td>5</td>\n",
       "      <td>MX</td>\n",
       "      <td>1558378898</td>\n",
       "      <td>4</td>\n",
       "      <td>24.01</td>\n",
       "      <td>-104.61</td>\n",
       "      <td>84.20</td>\n",
       "      <td>16.11</td>\n",
       "    </tr>\n",
       "    <tr>\n",
       "      <th>545</th>\n",
       "      <td>545</td>\n",
       "      <td>veraval</td>\n",
       "      <td>0</td>\n",
       "      <td>FR</td>\n",
       "      <td>1558378898</td>\n",
       "      <td>62</td>\n",
       "      <td>49.65</td>\n",
       "      <td>0.71</td>\n",
       "      <td>61.00</td>\n",
       "      <td>8.05</td>\n",
       "    </tr>\n",
       "    <tr>\n",
       "      <th>546</th>\n",
       "      <td>546</td>\n",
       "      <td>novyy urgal</td>\n",
       "      <td>100</td>\n",
       "      <td>RU</td>\n",
       "      <td>1558378899</td>\n",
       "      <td>93</td>\n",
       "      <td>51.07</td>\n",
       "      <td>132.56</td>\n",
       "      <td>49.74</td>\n",
       "      <td>2.68</td>\n",
       "    </tr>\n",
       "    <tr>\n",
       "      <th>547</th>\n",
       "      <td>547</td>\n",
       "      <td>tongren</td>\n",
       "      <td>4</td>\n",
       "      <td>CN</td>\n",
       "      <td>1558378899</td>\n",
       "      <td>64</td>\n",
       "      <td>27.72</td>\n",
       "      <td>109.18</td>\n",
       "      <td>55.86</td>\n",
       "      <td>2.84</td>\n",
       "    </tr>\n",
       "  </tbody>\n",
       "</table>\n",
       "<p>548 rows × 10 columns</p>\n",
       "</div>"
      ],
      "text/plain": [
       "     City_ID         City  Cloudiness Country        Date  Humidity    Lat  \\\n",
       "0          0    ostrovnoy           2      RU  1558378754        72  68.05   \n",
       "1          1    mahebourg          75      MU  1558378503        74 -20.41   \n",
       "2          2      qaanaaq          25      GL  1558378755        73  77.48   \n",
       "3          3       zhuhai           0      CN  1558378755        39  40.71   \n",
       "4          4    cape town          20      ZA  1558378755        76 -33.93   \n",
       "..       ...          ...         ...     ...         ...       ...    ...   \n",
       "543      543       yabrud           0      SY  1558378840        32  33.97   \n",
       "544      544      paraiso           5      MX  1558378898         4  24.01   \n",
       "545      545      veraval           0      FR  1558378898        62  49.65   \n",
       "546      546  novyy urgal         100      RU  1558378899        93  51.07   \n",
       "547      547      tongren           4      CN  1558378899        64  27.72   \n",
       "\n",
       "        Lng  Max Temp  Wind Speed  \n",
       "0     39.51     37.50        7.16  \n",
       "1     57.70     78.80       11.41  \n",
       "2    -69.36     22.20        2.37  \n",
       "3    112.04     44.60        4.47  \n",
       "4     18.42     55.99        8.05  \n",
       "..      ...       ...         ...  \n",
       "543   36.66     80.60        8.05  \n",
       "544 -104.61     84.20       16.11  \n",
       "545    0.71     61.00        8.05  \n",
       "546  132.56     49.74        2.68  \n",
       "547  109.18     55.86        2.84  \n",
       "\n",
       "[548 rows x 10 columns]"
      ]
     },
     "execution_count": 55,
     "metadata": {},
     "output_type": "execute_result"
    }
   ],
   "source": [
    "pd.DataFrame(output_data)"
   ]
  },
  {
   "cell_type": "markdown",
   "metadata": {},
   "source": [
    "## Generate Cities List"
   ]
  },
  {
   "cell_type": "code",
   "execution_count": 56,
   "metadata": {},
   "outputs": [
    {
     "data": {
      "text/plain": [
       "622"
      ]
     },
     "execution_count": 56,
     "metadata": {},
     "output_type": "execute_result"
    }
   ],
   "source": [
    "# List for holding lat_lngs and cities\n",
    "lat_lngs = []\n",
    "cities = []\n",
    "\n",
    "# Create a set of random lat and lng combinations\n",
    "lats = np.random.uniform(lat_range[0], lat_range[1], size=1500)\n",
    "lngs = np.random.uniform(lng_range[0], lng_range[1], size=1500)\n",
    "lat_lngs = zip(lats, lngs)\n",
    "\n",
    "# Identify nearest city for each lat, lng combination\n",
    "for lat_lng in lat_lngs:\n",
    "    city = citipy.nearest_city(lat_lng[0], lat_lng[1]).city_name\n",
    "    \n",
    "    # If the city is unique, then add it to a our cities list\n",
    "    if city not in cities:\n",
    "        cities.append(city)\n",
    "\n",
    "# Print the city count to confirm sufficient count\n",
    "len(cities)"
   ]
  },
  {
   "cell_type": "code",
   "execution_count": 57,
   "metadata": {},
   "outputs": [
    {
     "data": {
      "text/html": [
       "<div>\n",
       "<style scoped>\n",
       "    .dataframe tbody tr th:only-of-type {\n",
       "        vertical-align: middle;\n",
       "    }\n",
       "\n",
       "    .dataframe tbody tr th {\n",
       "        vertical-align: top;\n",
       "    }\n",
       "\n",
       "    .dataframe thead th {\n",
       "        text-align: right;\n",
       "    }\n",
       "</style>\n",
       "<table border=\"1\" class=\"dataframe\">\n",
       "  <thead>\n",
       "    <tr style=\"text-align: right;\">\n",
       "      <th></th>\n",
       "      <th>0</th>\n",
       "    </tr>\n",
       "  </thead>\n",
       "  <tbody>\n",
       "    <tr>\n",
       "      <th>0</th>\n",
       "      <td>taolanaro</td>\n",
       "    </tr>\n",
       "    <tr>\n",
       "      <th>1</th>\n",
       "      <td>rikitea</td>\n",
       "    </tr>\n",
       "    <tr>\n",
       "      <th>2</th>\n",
       "      <td>mataura</td>\n",
       "    </tr>\n",
       "    <tr>\n",
       "      <th>3</th>\n",
       "      <td>busselton</td>\n",
       "    </tr>\n",
       "    <tr>\n",
       "      <th>4</th>\n",
       "      <td>dikson</td>\n",
       "    </tr>\n",
       "    <tr>\n",
       "      <th>...</th>\n",
       "      <td>...</td>\n",
       "    </tr>\n",
       "    <tr>\n",
       "      <th>617</th>\n",
       "      <td>nea alikarnassos</td>\n",
       "    </tr>\n",
       "    <tr>\n",
       "      <th>618</th>\n",
       "      <td>asfi</td>\n",
       "    </tr>\n",
       "    <tr>\n",
       "      <th>619</th>\n",
       "      <td>kamaishi</td>\n",
       "    </tr>\n",
       "    <tr>\n",
       "      <th>620</th>\n",
       "      <td>soure</td>\n",
       "    </tr>\n",
       "    <tr>\n",
       "      <th>621</th>\n",
       "      <td>kamenskoye</td>\n",
       "    </tr>\n",
       "  </tbody>\n",
       "</table>\n",
       "<p>622 rows × 1 columns</p>\n",
       "</div>"
      ],
      "text/plain": [
       "                    0\n",
       "0           taolanaro\n",
       "1             rikitea\n",
       "2             mataura\n",
       "3           busselton\n",
       "4              dikson\n",
       "..                ...\n",
       "617  nea alikarnassos\n",
       "618              asfi\n",
       "619          kamaishi\n",
       "620             soure\n",
       "621        kamenskoye\n",
       "\n",
       "[622 rows x 1 columns]"
      ]
     },
     "execution_count": 57,
     "metadata": {},
     "output_type": "execute_result"
    }
   ],
   "source": [
    "pd.DataFrame(cities)"
   ]
  },
  {
   "cell_type": "markdown",
   "metadata": {},
   "source": [
    "### Perform API Calls\n",
    "* Perform a weather check on each city using a series of successive API calls.\n",
    "* Include a print log of each city as it'sbeing processed (with the city number and city name).\n"
   ]
  },
  {
   "cell_type": "code",
   "execution_count": 58,
   "metadata": {},
   "outputs": [
    {
     "data": {
      "text/plain": [
       "{'coord': {'lon': -68.3, 'lat': -54.8},\n",
       " 'weather': [{'id': 803,\n",
       "   'main': 'Clouds',\n",
       "   'description': 'broken clouds',\n",
       "   'icon': '04n'}],\n",
       " 'base': 'stations',\n",
       " 'main': {'temp': 8,\n",
       "  'feels_like': 1.28,\n",
       "  'temp_min': 8,\n",
       "  'temp_max': 8,\n",
       "  'pressure': 982,\n",
       "  'humidity': 36},\n",
       " 'visibility': 10000,\n",
       " 'wind': {'speed': 5.7, 'deg': 340},\n",
       " 'clouds': {'all': 75},\n",
       " 'dt': 1603849714,\n",
       " 'sys': {'type': 1,\n",
       "  'id': 8303,\n",
       "  'country': 'AR',\n",
       "  'sunrise': 1603788854,\n",
       "  'sunset': 1603841976},\n",
       " 'timezone': -10800,\n",
       " 'id': 3833367,\n",
       " 'name': 'Ushuaia',\n",
       " 'cod': 200}"
      ]
     },
     "execution_count": 58,
     "metadata": {},
     "output_type": "execute_result"
    }
   ],
   "source": [
    "url = \"http://api.openweathermap.org/data/2.5/weather?\"\n",
    "\n",
    "query_url = url + \"appid=\" + weather_api_key + \"&q=\" + city + \"&units=\" + \"metric\"\n",
    "# Get weather data\n",
    "weather_response = requests.get(query_url)\n",
    "weather_json = weather_response.json()\n",
    "weather_json"
   ]
  },
  {
   "cell_type": "code",
   "execution_count": 59,
   "metadata": {},
   "outputs": [],
   "source": [
    "api_key = weather_api_key\n",
    "units = \"metric\"\n",
    "\n",
    "query_url2 = f\"http://api.openweathermap.org/data/2.5/weather?appid={api_key}&units={units}&q=\"\n"
   ]
  },
  {
   "cell_type": "code",
   "execution_count": 147,
   "metadata": {
    "scrolled": true
   },
   "outputs": [
    {
     "name": "stdout",
     "output_type": "stream",
     "text": [
      "could not find city... Skipping\n",
      "Processing record 1 of set 1 | rikitea\n",
      "Processing record 2 of set 1 | mataura\n",
      "Processing record 3 of set 1 | busselton\n",
      "Processing record 4 of set 1 | dikson\n",
      "Processing record 5 of set 1 | albany\n",
      "Processing record 6 of set 1 | hanzhong\n",
      "Processing record 7 of set 1 | beringovskiy\n",
      "Processing record 8 of set 1 | mackay\n",
      "Processing record 9 of set 1 | saskylakh\n",
      "Processing record 10 of set 1 | flinders\n",
      "Processing record 11 of set 1 | punta arenas\n",
      "Processing record 12 of set 1 | kidal\n",
      "could not find city... Skipping\n",
      "Processing record 13 of set 1 | yaan\n",
      "Processing record 14 of set 1 | new norfolk\n",
      "could not find city... Skipping\n",
      "could not find city... Skipping\n",
      "Processing record 15 of set 1 | rabat\n",
      "Processing record 16 of set 1 | vao\n",
      "Processing record 17 of set 1 | aksu\n",
      "Processing record 18 of set 1 | east london\n",
      "Processing record 19 of set 1 | lebu\n",
      "Processing record 20 of set 1 | sitka\n",
      "Processing record 21 of set 1 | mahibadhoo\n",
      "Processing record 22 of set 1 | hermanus\n",
      "Processing record 23 of set 1 | bontang\n",
      "Processing record 24 of set 1 | pacific grove\n",
      "Processing record 25 of set 1 | raudeberg\n",
      "could not find city... Skipping\n",
      "Processing record 26 of set 1 | namatanai\n",
      "Processing record 27 of set 1 | yuli\n",
      "could not find city... Skipping\n",
      "Processing record 28 of set 1 | atuona\n",
      "Processing record 29 of set 1 | viedma\n",
      "Processing record 30 of set 1 | adrar\n",
      "Processing record 31 of set 1 | khatanga\n",
      "Processing record 32 of set 1 | bluff\n",
      "Processing record 33 of set 1 | shirokiy\n",
      "Processing record 34 of set 1 | xai-xai\n",
      "Processing record 35 of set 1 | talnakh\n",
      "Processing record 36 of set 1 | alice springs\n",
      "Processing record 37 of set 1 | shimoda\n",
      "Processing record 38 of set 1 | bilibino\n",
      "Processing record 39 of set 1 | bredasdorp\n",
      "Processing record 40 of set 1 | yellowknife\n",
      "Processing record 41 of set 1 | kapaa\n",
      "Processing record 42 of set 1 | tuktoyaktuk\n",
      "Processing record 43 of set 1 | saint george\n",
      "Processing record 44 of set 1 | waipawa\n",
      "Processing record 45 of set 1 | maceio\n",
      "could not find city... Skipping\n",
      "Processing record 46 of set 1 | pontianak\n",
      "Processing record 47 of set 1 | cherskiy\n",
      "Processing record 48 of set 1 | suntar\n",
      "Processing record 49 of set 1 | vaini\n",
      "Processing record 50 of set 1 | stephenville\n",
      "Processing record 51 of set 1 | faanui\n",
      "Processing record 1 of set 2 | thompson\n",
      "Processing record 2 of set 2 | puerto ayora\n",
      "Processing record 3 of set 2 | sao filipe\n",
      "Processing record 4 of set 2 | upernavik\n",
      "Processing record 5 of set 2 | zhigansk\n",
      "Processing record 6 of set 2 | souillac\n",
      "Processing record 7 of set 2 | kendari\n",
      "Processing record 8 of set 2 | mar del plata\n",
      "Processing record 9 of set 2 | yulara\n",
      "Processing record 10 of set 2 | sangar\n",
      "Processing record 11 of set 2 | itoman\n",
      "Processing record 12 of set 2 | faya\n",
      "Processing record 13 of set 2 | olinda\n",
      "Processing record 14 of set 2 | bandarbeyla\n",
      "Processing record 15 of set 2 | port lincoln\n",
      "Processing record 16 of set 2 | cape town\n",
      "Processing record 17 of set 2 | jamestown\n",
      "Processing record 18 of set 2 | korla\n",
      "Processing record 19 of set 2 | mount isa\n",
      "Processing record 20 of set 2 | lata\n",
      "Processing record 21 of set 2 | salym\n",
      "Processing record 22 of set 2 | pevek\n",
      "Processing record 23 of set 2 | belgrade\n",
      "could not find city... Skipping\n",
      "Processing record 24 of set 2 | lebork\n",
      "Processing record 25 of set 2 | kavieng\n",
      "Processing record 26 of set 2 | kathmandu\n",
      "Processing record 27 of set 2 | ushuaia\n",
      "Processing record 28 of set 2 | mumford\n",
      "Processing record 29 of set 2 | yar-sale\n",
      "Processing record 30 of set 2 | luderitz\n",
      "Processing record 31 of set 2 | monchegorsk\n",
      "Processing record 32 of set 2 | vardo\n",
      "Processing record 33 of set 2 | cape canaveral\n",
      "Processing record 34 of set 2 | kieta\n",
      "Processing record 35 of set 2 | nelson bay\n",
      "could not find city... Skipping\n",
      "Processing record 36 of set 2 | georgetown\n",
      "could not find city... Skipping\n",
      "Processing record 37 of set 2 | khorramshahr\n",
      "Processing record 38 of set 2 | weihai\n",
      "Processing record 39 of set 2 | pangody\n",
      "Processing record 40 of set 2 | victoria\n",
      "Processing record 41 of set 2 | hilo\n",
      "Processing record 42 of set 2 | boa vista\n",
      "Processing record 43 of set 2 | udachnyy\n",
      "Processing record 44 of set 2 | severo-kurilsk\n",
      "Processing record 45 of set 2 | san patricio\n",
      "Processing record 46 of set 2 | homer\n",
      "Processing record 47 of set 2 | indian head\n",
      "Processing record 48 of set 2 | poum\n",
      "Processing record 49 of set 2 | mwinilunga\n",
      "Processing record 50 of set 2 | chokurdakh\n",
      "Processing record 51 of set 2 | hobart\n",
      "Processing record 1 of set 3 | along\n",
      "Processing record 2 of set 3 | port alfred\n",
      "Processing record 3 of set 3 | le pradet\n",
      "Processing record 4 of set 3 | repelon\n",
      "could not find city... Skipping\n",
      "Processing record 5 of set 3 | hirara\n",
      "Processing record 6 of set 3 | ribeira grande\n",
      "Processing record 7 of set 3 | butaritari\n",
      "Processing record 8 of set 3 | verkhoyansk\n",
      "Processing record 9 of set 3 | qaanaaq\n",
      "Processing record 10 of set 3 | bojnurd\n",
      "Processing record 11 of set 3 | northam\n",
      "Processing record 12 of set 3 | kununurra\n",
      "Processing record 13 of set 3 | polunochnoye\n",
      "Processing record 14 of set 3 | nome\n",
      "Processing record 15 of set 3 | iqaluit\n",
      "Processing record 16 of set 3 | avarua\n",
      "Processing record 17 of set 3 | basco\n",
      "Processing record 18 of set 3 | norman wells\n",
      "Processing record 19 of set 3 | pitimbu\n",
      "Processing record 20 of set 3 | otradnoye\n",
      "Processing record 21 of set 3 | codrington\n",
      "Processing record 22 of set 3 | esperance\n",
      "Processing record 23 of set 3 | fortuna\n",
      "could not find city... Skipping\n",
      "Processing record 24 of set 3 | kalabo\n",
      "Processing record 25 of set 3 | aklavik\n",
      "Processing record 26 of set 3 | sunrise manor\n",
      "Processing record 27 of set 3 | grindavik\n",
      "Processing record 28 of set 3 | jieshi\n",
      "Processing record 29 of set 3 | chuy\n",
      "Processing record 30 of set 3 | yandyki\n",
      "Processing record 31 of set 3 | zhurivka\n",
      "could not find city... Skipping\n",
      "Processing record 32 of set 3 | casablanca\n",
      "Processing record 33 of set 3 | salalah\n",
      "Processing record 34 of set 3 | svetlogorsk\n",
      "Processing record 35 of set 3 | atar\n",
      "Processing record 36 of set 3 | hasaki\n",
      "Processing record 37 of set 3 | aleppo\n",
      "Processing record 38 of set 3 | kahului\n",
      "Processing record 39 of set 3 | cabo san lucas\n",
      "could not find city... Skipping\n",
      "Processing record 40 of set 3 | castro\n",
      "Processing record 41 of set 3 | nikolskoye\n",
      "Processing record 42 of set 3 | khudumelapye\n",
      "Processing record 43 of set 3 | provideniya\n",
      "Processing record 44 of set 3 | jackson\n",
      "Processing record 45 of set 3 | lensk\n",
      "could not find city... Skipping\n",
      "Processing record 46 of set 3 | christchurch\n",
      "Processing record 47 of set 3 | cidreira\n",
      "Processing record 48 of set 3 | kaitangata\n",
      "Processing record 49 of set 3 | oistins\n",
      "Processing record 50 of set 3 | ambon\n",
      "Processing record 51 of set 3 | lerik\n",
      "Processing record 1 of set 4 | arlit\n",
      "Processing record 2 of set 4 | nantucket\n",
      "Processing record 3 of set 4 | vytegra\n",
      "Processing record 4 of set 4 | abonnema\n",
      "Processing record 5 of set 4 | bengkulu\n",
      "Processing record 6 of set 4 | port-gentil\n",
      "Processing record 7 of set 4 | longyearbyen\n",
      "Processing record 8 of set 4 | moranbah\n",
      "Processing record 9 of set 4 | carnarvon\n",
      "Processing record 10 of set 4 | bud\n",
      "Processing record 11 of set 4 | torbay\n",
      "Processing record 12 of set 4 | san\n",
      "Processing record 13 of set 4 | tiksi\n",
      "Processing record 14 of set 4 | sambava\n",
      "could not find city... Skipping\n",
      "Processing record 15 of set 4 | airai\n",
      "Processing record 16 of set 4 | venado tuerto\n",
      "Processing record 17 of set 4 | kargasok\n",
      "Processing record 18 of set 4 | odweyne\n",
      "Processing record 19 of set 4 | khandbari\n",
      "could not find city... Skipping\n",
      "Processing record 20 of set 4 | bethel\n",
      "Processing record 21 of set 4 | nuuk\n",
      "Processing record 22 of set 4 | mandera\n",
      "Processing record 23 of set 4 | tahe\n",
      "Processing record 24 of set 4 | fort nelson\n",
      "Processing record 25 of set 4 | mildura\n",
      "Processing record 26 of set 4 | parakou\n",
      "Processing record 27 of set 4 | narsaq\n",
      "Processing record 28 of set 4 | saint-philippe\n",
      "Processing record 29 of set 4 | nalut\n",
      "Processing record 30 of set 4 | kodiak\n",
      "could not find city... Skipping\n",
      "Processing record 31 of set 4 | storslett\n",
      "Processing record 32 of set 4 | namibe\n",
      "Processing record 33 of set 4 | berlevag\n",
      "Processing record 34 of set 4 | deputatskiy\n",
      "Processing record 35 of set 4 | summerland\n"
     ]
    },
    {
     "name": "stdout",
     "output_type": "stream",
     "text": [
      "Processing record 36 of set 4 | gorontalo\n",
      "could not find city... Skipping\n",
      "Processing record 37 of set 4 | pangnirtung\n",
      "Processing record 38 of set 4 | ponta do sol\n",
      "Processing record 39 of set 4 | hobyo\n",
      "Processing record 40 of set 4 | belaya gora\n",
      "Processing record 41 of set 4 | okha\n",
      "Processing record 42 of set 4 | djambala\n",
      "Processing record 43 of set 4 | saint-joseph\n",
      "Processing record 44 of set 4 | kruisfontein\n",
      "Processing record 45 of set 4 | hithadhoo\n",
      "Processing record 46 of set 4 | bristol\n",
      "Processing record 47 of set 4 | vila velha\n",
      "Processing record 48 of set 4 | leningradskiy\n",
      "Processing record 49 of set 4 | llanelli\n",
      "Processing record 50 of set 4 | sobolevo\n",
      "Processing record 51 of set 4 | abalak\n",
      "Processing record 1 of set 5 | lewisporte\n",
      "Processing record 2 of set 5 | arraial do cabo\n",
      "Processing record 3 of set 5 | baherden\n",
      "Processing record 4 of set 5 | nizhniy kuranakh\n",
      "Processing record 5 of set 5 | nassau\n",
      "Processing record 6 of set 5 | santa isabel\n",
      "Processing record 7 of set 5 | aswan\n",
      "Processing record 8 of set 5 | mayna\n",
      "Processing record 9 of set 5 | grand gaube\n",
      "Processing record 10 of set 5 | high rock\n",
      "Processing record 11 of set 5 | wamba\n",
      "Processing record 12 of set 5 | saint-francois\n",
      "Processing record 13 of set 5 | xichang\n",
      "Processing record 14 of set 5 | banes\n",
      "Processing record 15 of set 5 | nioro\n",
      "Processing record 16 of set 5 | puerto escondido\n",
      "could not find city... Skipping\n",
      "Processing record 17 of set 5 | guozhen\n",
      "Processing record 18 of set 5 | cabinda\n",
      "Processing record 19 of set 5 | coahuayana\n",
      "Processing record 20 of set 5 | kloulklubed\n",
      "Processing record 21 of set 5 | ipixuna\n",
      "Processing record 22 of set 5 | mlowo\n",
      "Processing record 23 of set 5 | limbang\n",
      "Processing record 24 of set 5 | port elizabeth\n",
      "Processing record 25 of set 5 | broken hill\n",
      "Processing record 26 of set 5 | bongaree\n",
      "Processing record 27 of set 5 | albacete\n",
      "Processing record 28 of set 5 | ketchikan\n",
      "Processing record 29 of set 5 | shenjiamen\n",
      "Processing record 30 of set 5 | dukat\n",
      "Processing record 31 of set 5 | ilulissat\n",
      "Processing record 32 of set 5 | barrow\n",
      "Processing record 33 of set 5 | umm kaddadah\n",
      "Processing record 34 of set 5 | pinhao\n",
      "Processing record 35 of set 5 | talara\n",
      "Processing record 36 of set 5 | ancud\n",
      "Processing record 37 of set 5 | kpandae\n",
      "Processing record 38 of set 5 | murnau\n",
      "Processing record 39 of set 5 | klaksvik\n",
      "could not find city... Skipping\n",
      "Processing record 40 of set 5 | kwinana\n",
      "Processing record 41 of set 5 | mahebourg\n",
      "Processing record 42 of set 5 | isiro\n",
      "Processing record 43 of set 5 | turukhansk\n",
      "Processing record 44 of set 5 | pudozh\n",
      "Processing record 45 of set 5 | telimele\n",
      "Processing record 46 of set 5 | columbus\n",
      "Processing record 47 of set 5 | bilma\n",
      "Processing record 48 of set 5 | margate\n",
      "Processing record 49 of set 5 | saldanha\n",
      "Processing record 50 of set 5 | el alto\n",
      "Processing record 51 of set 5 | shubarshi\n",
      "Processing record 1 of set 6 | budureasa\n",
      "Processing record 2 of set 6 | san vicente\n",
      "Processing record 3 of set 6 | port hardy\n",
      "Processing record 4 of set 6 | alekseyevsk\n",
      "Processing record 5 of set 6 | lorengau\n",
      "could not find city... Skipping\n",
      "Processing record 6 of set 6 | boo\n",
      "Processing record 7 of set 6 | panama city\n",
      "Processing record 8 of set 6 | roebourne\n",
      "Processing record 9 of set 6 | veraval\n",
      "Processing record 10 of set 6 | amapa\n",
      "Processing record 11 of set 6 | naze\n",
      "Processing record 12 of set 6 | myitkyina\n",
      "could not find city... Skipping\n",
      "Processing record 13 of set 6 | danbury\n",
      "Processing record 14 of set 6 | jibuti\n",
      "Processing record 15 of set 6 | tautira\n",
      "Processing record 16 of set 6 | rawah\n",
      "Processing record 17 of set 6 | taltal\n",
      "Processing record 18 of set 6 | tuatapere\n",
      "Processing record 19 of set 6 | tasiilaq\n",
      "Processing record 20 of set 6 | guanica\n",
      "Processing record 21 of set 6 | burns lake\n",
      "Processing record 22 of set 6 | losal\n",
      "Processing record 23 of set 6 | sosva\n",
      "Processing record 24 of set 6 | borogontsy\n",
      "Processing record 25 of set 6 | presidencia roque saenz pena\n",
      "Processing record 26 of set 6 | nicoya\n",
      "Processing record 27 of set 6 | sarangani\n",
      "Processing record 28 of set 6 | prince rupert\n",
      "could not find city... Skipping\n",
      "Processing record 29 of set 6 | fort-shevchenko\n",
      "Processing record 30 of set 6 | cap malheureux\n",
      "Processing record 31 of set 6 | malanje\n",
      "Processing record 32 of set 6 | charters towers\n",
      "Processing record 33 of set 6 | geraldton\n",
      "Processing record 34 of set 6 | marsa matruh\n",
      "Processing record 35 of set 6 | demmin\n",
      "Processing record 36 of set 6 | isangel\n",
      "Processing record 37 of set 6 | honavar\n",
      "Processing record 38 of set 6 | inta\n",
      "Processing record 39 of set 6 | lavrentiya\n",
      "Processing record 40 of set 6 | sabha\n",
      "Processing record 41 of set 6 | sorland\n",
      "Processing record 42 of set 6 | dalbandin\n",
      "could not find city... Skipping\n",
      "Processing record 43 of set 6 | gijon\n",
      "Processing record 44 of set 6 | shache\n",
      "Processing record 45 of set 6 | caravelas\n",
      "Processing record 46 of set 6 | hinton\n",
      "Processing record 47 of set 6 | akureyri\n",
      "Processing record 48 of set 6 | kharan\n",
      "Processing record 49 of set 6 | roma\n",
      "Processing record 50 of set 6 | guerrero negro\n",
      "Processing record 51 of set 6 | bida\n",
      "Processing record 1 of set 7 | lakshmipur\n",
      "Processing record 2 of set 7 | omboue\n",
      "Processing record 3 of set 7 | nikel\n",
      "Processing record 4 of set 7 | komotini\n",
      "Processing record 5 of set 7 | avera\n",
      "Processing record 6 of set 7 | colquechaca\n",
      "Processing record 7 of set 7 | nadvoitsy\n",
      "Processing record 8 of set 7 | natal\n",
      "Processing record 9 of set 7 | debre tabor\n",
      "Processing record 10 of set 7 | buraydah\n",
      "Processing record 11 of set 7 | birpur\n",
      "Processing record 12 of set 7 | skjervoy\n",
      "could not find city... Skipping\n",
      "Processing record 13 of set 7 | milkovo\n",
      "Processing record 14 of set 7 | dingle\n",
      "Processing record 15 of set 7 | san jose\n",
      "Processing record 16 of set 7 | kaeo\n",
      "Processing record 17 of set 7 | dunedin\n",
      "Processing record 18 of set 7 | santa cruz\n",
      "Processing record 19 of set 7 | cayenne\n",
      "Processing record 20 of set 7 | gouyave\n",
      "Processing record 21 of set 7 | doka\n",
      "could not find city... Skipping\n",
      "Processing record 22 of set 7 | bambous virieux\n",
      "Processing record 23 of set 7 | north ogden\n",
      "Processing record 24 of set 7 | la ronge\n",
      "could not find city... Skipping\n",
      "Processing record 25 of set 7 | iskateley\n",
      "could not find city... Skipping\n",
      "Processing record 26 of set 7 | tilichiki\n",
      "Processing record 27 of set 7 | lagoa\n",
      "Processing record 28 of set 7 | biu\n",
      "Processing record 29 of set 7 | fare\n",
      "could not find city... Skipping\n",
      "Processing record 30 of set 7 | kysyl-syr\n",
      "Processing record 31 of set 7 | brainerd\n",
      "Processing record 32 of set 7 | vaitape\n",
      "Processing record 33 of set 7 | san francisco\n",
      "Processing record 34 of set 7 | kutum\n",
      "Processing record 35 of set 7 | ormara\n",
      "Processing record 36 of set 7 | gigmoto\n",
      "Processing record 37 of set 7 | shingu\n",
      "Processing record 38 of set 7 | vanimo\n",
      "Processing record 39 of set 7 | vila do maio\n",
      "could not find city... Skipping\n",
      "Processing record 40 of set 7 | broome\n",
      "Processing record 41 of set 7 | ostrovnoy\n",
      "Processing record 42 of set 7 | ryotsu\n",
      "Processing record 43 of set 7 | buala\n",
      "Processing record 44 of set 7 | harper\n",
      "Processing record 45 of set 7 | acapulco\n",
      "Processing record 46 of set 7 | hals\n",
      "Processing record 47 of set 7 | piney green\n",
      "Processing record 48 of set 7 | meulaboh\n",
      "Processing record 49 of set 7 | walla walla\n",
      "Processing record 50 of set 7 | otavi\n",
      "Processing record 51 of set 7 | penzance\n",
      "Processing record 1 of set 8 | sola\n",
      "Processing record 2 of set 8 | mamallapuram\n",
      "Processing record 3 of set 8 | ucluelet\n",
      "could not find city... Skipping\n",
      "Processing record 4 of set 8 | ola\n",
      "Processing record 5 of set 8 | san martin\n",
      "could not find city... Skipping\n",
      "Processing record 6 of set 8 | bac lieu\n",
      "Processing record 7 of set 8 | sindor\n",
      "Processing record 8 of set 8 | ballitoville\n",
      "Processing record 9 of set 8 | chontalpa\n",
      "Processing record 10 of set 8 | rio branco\n",
      "Processing record 11 of set 8 | dakar\n",
      "could not find city... Skipping\n",
      "Processing record 12 of set 8 | celestun\n",
      "Processing record 13 of set 8 | jumla\n",
      "Processing record 14 of set 8 | murray bridge\n",
      "Processing record 15 of set 8 | padang\n",
      "Processing record 16 of set 8 | barguzin\n",
      "Processing record 17 of set 8 | osoyoos\n",
      "Processing record 18 of set 8 | izmalkovo\n",
      "Processing record 19 of set 8 | irati\n"
     ]
    },
    {
     "name": "stdout",
     "output_type": "stream",
     "text": [
      "Processing record 20 of set 8 | port hedland\n",
      "Processing record 21 of set 8 | terrak\n",
      "Processing record 22 of set 8 | nemuro\n",
      "Processing record 23 of set 8 | visnes\n",
      "could not find city... Skipping\n",
      "Processing record 24 of set 8 | svay rieng\n",
      "Processing record 25 of set 8 | nipawin\n",
      "Processing record 26 of set 8 | mincivan\n",
      "Processing record 27 of set 8 | catia la mar\n",
      "Processing record 28 of set 8 | saint-augustin\n",
      "Processing record 29 of set 8 | belyy yar\n",
      "Processing record 30 of set 8 | baykit\n",
      "Processing record 31 of set 8 | bukachacha\n",
      "Processing record 32 of set 8 | saint anthony\n",
      "Processing record 33 of set 8 | shakawe\n",
      "Processing record 34 of set 8 | namikupa\n",
      "Processing record 35 of set 8 | san quintin\n",
      "Processing record 36 of set 8 | kollam\n",
      "Processing record 37 of set 8 | santiago del estero\n",
      "Processing record 38 of set 8 | tura\n",
      "Processing record 39 of set 8 | howard springs\n",
      "Processing record 40 of set 8 | cabedelo\n",
      "Processing record 41 of set 8 | the valley\n",
      "Processing record 42 of set 8 | puerto leguizamo\n",
      "Processing record 43 of set 8 | bonavista\n",
      "could not find city... Skipping\n",
      "Processing record 44 of set 8 | dali\n",
      "Processing record 45 of set 8 | baguanos\n",
      "Processing record 46 of set 8 | maues\n",
      "Processing record 47 of set 8 | mahajanga\n",
      "could not find city... Skipping\n",
      "Processing record 48 of set 8 | boyolangu\n",
      "Processing record 49 of set 8 | tessalit\n",
      "Processing record 50 of set 8 | eyl\n",
      "Processing record 51 of set 8 | golden\n",
      "Processing record 1 of set 9 | kinsale\n",
      "Processing record 2 of set 9 | lucapa\n",
      "could not find city... Skipping\n",
      "Processing record 3 of set 9 | odesa\n",
      "Processing record 4 of set 9 | bubaque\n",
      "Processing record 5 of set 9 | constitucion\n",
      "could not find city... Skipping\n",
      "Processing record 6 of set 9 | codajas\n",
      "Processing record 7 of set 9 | kizukuri\n",
      "Processing record 8 of set 9 | sinop\n",
      "Processing record 9 of set 9 | tirumakudal narsipur\n",
      "Processing record 10 of set 9 | khandyga\n",
      "Processing record 11 of set 9 | przhevalskoye\n",
      "Processing record 12 of set 9 | katsuura\n",
      "Processing record 13 of set 9 | slave lake\n",
      "Processing record 14 of set 9 | bara\n",
      "Processing record 15 of set 9 | ahuimanu\n",
      "Processing record 16 of set 9 | rasra\n",
      "Processing record 17 of set 9 | clyde river\n",
      "could not find city... Skipping\n",
      "Processing record 18 of set 9 | coquimbo\n",
      "Processing record 19 of set 9 | tallahassee\n",
      "Processing record 20 of set 9 | verkhnevilyuysk\n",
      "Processing record 21 of set 9 | valenca do piaui\n",
      "Processing record 22 of set 9 | bastia\n",
      "Processing record 23 of set 9 | pella\n",
      "Processing record 24 of set 9 | general pico\n",
      "Processing record 25 of set 9 | port blair\n",
      "Processing record 26 of set 9 | bathsheba\n",
      "Processing record 27 of set 9 | antofagasta\n",
      "Processing record 28 of set 9 | waverly\n",
      "Processing record 29 of set 9 | beauchamps\n",
      "Processing record 30 of set 9 | xinyu\n",
      "Processing record 31 of set 9 | alofi\n",
      "Processing record 32 of set 9 | half moon bay\n",
      "Processing record 33 of set 9 | hillsborough\n",
      "Processing record 34 of set 9 | ust-kuyga\n",
      "Processing record 35 of set 9 | burnie\n",
      "Processing record 36 of set 9 | tazovskiy\n",
      "Processing record 37 of set 9 | portland\n",
      "Processing record 38 of set 9 | touros\n",
      "Processing record 39 of set 9 | guanhaes\n",
      "Processing record 40 of set 9 | alenquer\n",
      "Processing record 41 of set 9 | hofn\n",
      "Processing record 42 of set 9 | koutsouras\n",
      "Processing record 43 of set 9 | kijabe\n",
      "Processing record 44 of set 9 | ballina\n",
      "could not find city... Skipping\n",
      "Processing record 45 of set 9 | challapata\n",
      "Processing record 46 of set 9 | erenhot\n",
      "Processing record 47 of set 9 | durres\n",
      "Processing record 48 of set 9 | pavilosta\n",
      "Processing record 49 of set 9 | chumikan\n",
      "Processing record 50 of set 9 | tual\n",
      "Processing record 51 of set 9 | mokhsogollokh\n",
      "Processing record 1 of set 10 | jabinyanah\n",
      "Processing record 2 of set 10 | mizan teferi\n",
      "could not find city... Skipping\n",
      "Processing record 3 of set 10 | copiapo\n",
      "Processing record 4 of set 10 | nisia floresta\n",
      "Processing record 5 of set 10 | bartica\n",
      "Processing record 6 of set 10 | morant bay\n",
      "Processing record 7 of set 10 | toledo\n",
      "Processing record 8 of set 10 | saint-pierre\n",
      "Processing record 9 of set 10 | minudasht\n",
      "Processing record 10 of set 10 | uddevalla\n",
      "Processing record 11 of set 10 | inhambane\n",
      "Processing record 12 of set 10 | tatarka\n",
      "Processing record 13 of set 10 | neiafu\n",
      "Processing record 14 of set 10 | manado\n",
      "Processing record 15 of set 10 | verkhnyaya inta\n",
      "Processing record 16 of set 10 | burkburnett\n",
      "Processing record 17 of set 10 | sertanopolis\n",
      "Processing record 18 of set 10 | inzhavino\n",
      "Processing record 19 of set 10 | black diamond\n",
      "Processing record 20 of set 10 | podporozhye\n",
      "Processing record 21 of set 10 | lima\n",
      "Processing record 22 of set 10 | rochester\n",
      "Processing record 23 of set 10 | tekirdag\n",
      "Processing record 24 of set 10 | lieksa\n",
      "Processing record 25 of set 10 | sayyan\n",
      "Processing record 26 of set 10 | ambositra\n",
      "Processing record 27 of set 10 | urengoy\n",
      "Processing record 28 of set 10 | ornskoldsvik\n",
      "Processing record 29 of set 10 | itupiranga\n",
      "Processing record 30 of set 10 | rundu\n",
      "Processing record 31 of set 10 | porto novo\n",
      "Processing record 32 of set 10 | lompoc\n",
      "Processing record 33 of set 10 | ambatolampy\n",
      "could not find city... Skipping\n",
      "Processing record 34 of set 10 | elizabeth city\n",
      "Processing record 35 of set 10 | plettenberg bay\n",
      "Processing record 36 of set 10 | samarinda\n",
      "Processing record 37 of set 10 | les cayes\n",
      "Processing record 38 of set 10 | zabol\n",
      "Processing record 39 of set 10 | shahreza\n",
      "Processing record 40 of set 10 | sarkand\n",
      "Processing record 41 of set 10 | belmonte\n",
      "Processing record 42 of set 10 | siyabuswa\n",
      "Processing record 43 of set 10 | vondrozo\n",
      "Processing record 44 of set 10 | kenai\n",
      "Processing record 45 of set 10 | nabisar\n",
      "Processing record 46 of set 10 | yinchuan\n",
      "could not find city... Skipping\n",
      "could not find city... Skipping\n",
      "Processing record 47 of set 10 | wolgast\n",
      "could not find city... Skipping\n",
      "Processing record 48 of set 10 | goundam\n",
      "Processing record 49 of set 10 | sembe\n",
      "Processing record 50 of set 10 | quime\n",
      "Processing record 51 of set 10 | soller\n",
      "Processing record 1 of set 11 | acajutla\n",
      "Processing record 2 of set 11 | yichang\n",
      "Processing record 3 of set 11 | terra santa\n",
      "Processing record 4 of set 11 | boffa\n",
      "Processing record 5 of set 11 | erdenet\n",
      "Processing record 6 of set 11 | sampit\n",
      "could not find city... Skipping\n",
      "Processing record 7 of set 11 | coihaique\n",
      "Processing record 8 of set 11 | egvekinot\n",
      "Processing record 9 of set 11 | agadez\n",
      "Processing record 10 of set 11 | sur\n",
      "could not find city... Skipping\n",
      "Processing record 11 of set 11 | kenora\n",
      "Processing record 12 of set 11 | muchkapskiy\n",
      "Processing record 13 of set 11 | merauke\n",
      "Processing record 14 of set 11 | lufilufi\n",
      "Processing record 15 of set 11 | baoning\n",
      "Processing record 16 of set 11 | karratha\n",
      "Processing record 17 of set 11 | tefe\n",
      "could not find city... Skipping\n",
      "Processing record 18 of set 11 | hervey bay\n",
      "could not find city... Skipping\n",
      "Processing record 19 of set 11 | krasnoselkup\n",
      "could not find city... Skipping\n",
      "could not find city... Skipping\n",
      "Processing record 20 of set 11 | olga\n",
      "Processing record 21 of set 11 | malindi\n",
      "Processing record 22 of set 11 | bewar\n",
      "Processing record 23 of set 11 | gobabis\n",
      "Processing record 24 of set 11 | galle\n",
      "Processing record 25 of set 11 | acaponeta\n",
      "Processing record 26 of set 11 | roald\n",
      "Processing record 27 of set 11 | lakselv\n",
      "Processing record 28 of set 11 | poso\n",
      "Processing record 29 of set 11 | itarema\n",
      "Processing record 30 of set 11 | bella union\n",
      "Processing record 31 of set 11 | tekkali\n",
      "Processing record 32 of set 11 | pimentel\n",
      "Processing record 33 of set 11 | tigre\n",
      "Processing record 34 of set 11 | saint cloud\n",
      "Processing record 35 of set 11 | baoding\n",
      "Processing record 36 of set 11 | lamar\n",
      "Processing record 37 of set 11 | labuan\n",
      "Processing record 38 of set 11 | san cristobal\n",
      "Processing record 39 of set 11 | mezen\n",
      "Processing record 40 of set 11 | santa marta\n",
      "Processing record 41 of set 11 | hattiesburg\n",
      "Processing record 42 of set 11 | verkhoshizhemye\n",
      "Processing record 43 of set 11 | tucuma\n",
      "Processing record 44 of set 11 | komsomolskiy\n",
      "Processing record 45 of set 11 | mangotsfield\n",
      "Processing record 46 of set 11 | male\n",
      "Processing record 47 of set 11 | butia\n",
      "Processing record 48 of set 11 | praia da vitoria\n",
      "Processing record 49 of set 11 | tongchuan\n",
      "could not find city... Skipping\n",
      "Processing record 50 of set 11 | viru\n"
     ]
    },
    {
     "name": "stdout",
     "output_type": "stream",
     "text": [
      "Processing record 51 of set 11 | mailsi\n",
      "Processing record 1 of set 12 | haines junction\n",
      "Processing record 2 of set 12 | biak\n",
      "Processing record 3 of set 12 | athens\n",
      "Processing record 4 of set 12 | nea alikarnassos\n",
      "Processing record 5 of set 12 | asfi\n",
      "Processing record 6 of set 12 | kamaishi\n",
      "Processing record 7 of set 12 | soure\n",
      "could not find city... Skipping\n"
     ]
    }
   ],
   "source": [
    "city_name = []\n",
    "max_temp = []\n",
    "humidity = []\n",
    "cloudiness = []\n",
    "lat = []\n",
    "lng = []\n",
    "wind_speed = []\n",
    "country = []\n",
    "date = []\n",
    "\n",
    "count = 0\n",
    "set_count = 1\n",
    "\n",
    "for city in cities:\n",
    "    try:\n",
    "        response = requests.get(query_url2 + city).json()\n",
    "        cloudiness.append(response['clouds']['all'])\n",
    "        max_temp.append(response['main']['temp_max'])\n",
    "        humidity.append(response['main']['humidity']) \n",
    "        lat.append(response['coord']['lat'])\n",
    "        lng.append(response['coord']['lon'])\n",
    "        wind_speed.append(response['wind']['speed'])\n",
    "        country.append(response['sys']['country'])\n",
    "        date.append(response['dt'])\n",
    "        name = response['name']\n",
    "        city_name.append(city)\n",
    "        if count > 50:\n",
    "            set_count = 1 + set_count\n",
    "            count = 1\n",
    "        else:\n",
    "            count = 1 + count    \n",
    "        \n",
    "        print(f\"Processing record {count} of set {set_count} | {city}\")\n",
    "    except:\n",
    "        print(\"could not find city... Skipping\")\n"
   ]
  },
  {
   "cell_type": "markdown",
   "metadata": {},
   "source": [
    "### Convert Raw Data to DataFrame\n",
    "* Export the city data into a .csv.\n",
    "* Display the DataFrame"
   ]
  },
  {
   "cell_type": "code",
   "execution_count": 190,
   "metadata": {},
   "outputs": [],
   "source": [
    "city_data = {\"City\": city_name,\n",
    "           \"Lat\": lat, \n",
    "           \"Lng\": lng,\n",
    "           \"Max Temp\": max_temp, \n",
    "           \"Humidity\": humidity,\n",
    "           \"Cloudiness\": cloudiness, \n",
    "           \"Wind Speed\": wind_speed, \n",
    "           \"Country\": country,\n",
    "           \"Date\": date}\n"
   ]
  },
  {
   "cell_type": "code",
   "execution_count": 191,
   "metadata": {},
   "outputs": [
    {
     "data": {
      "text/html": [
       "<div>\n",
       "<style scoped>\n",
       "    .dataframe tbody tr th:only-of-type {\n",
       "        vertical-align: middle;\n",
       "    }\n",
       "\n",
       "    .dataframe tbody tr th {\n",
       "        vertical-align: top;\n",
       "    }\n",
       "\n",
       "    .dataframe thead th {\n",
       "        text-align: right;\n",
       "    }\n",
       "</style>\n",
       "<table border=\"1\" class=\"dataframe\">\n",
       "  <thead>\n",
       "    <tr style=\"text-align: right;\">\n",
       "      <th></th>\n",
       "      <th>Lat</th>\n",
       "      <th>Lng</th>\n",
       "      <th>Max Temp</th>\n",
       "      <th>Humidity</th>\n",
       "      <th>Cloudiness</th>\n",
       "      <th>Wind Speed</th>\n",
       "      <th>Country</th>\n",
       "      <th>Date</th>\n",
       "    </tr>\n",
       "  </thead>\n",
       "  <tbody>\n",
       "    <tr>\n",
       "      <th>0</th>\n",
       "      <td>-23.12</td>\n",
       "      <td>-134.97</td>\n",
       "      <td>23.67</td>\n",
       "      <td>82</td>\n",
       "      <td>99</td>\n",
       "      <td>6.10</td>\n",
       "      <td>PF</td>\n",
       "      <td>1603902909</td>\n",
       "    </tr>\n",
       "    <tr>\n",
       "      <th>1</th>\n",
       "      <td>-46.19</td>\n",
       "      <td>168.86</td>\n",
       "      <td>8.89</td>\n",
       "      <td>90</td>\n",
       "      <td>93</td>\n",
       "      <td>0.89</td>\n",
       "      <td>NZ</td>\n",
       "      <td>1603902994</td>\n",
       "    </tr>\n",
       "    <tr>\n",
       "      <th>2</th>\n",
       "      <td>-33.65</td>\n",
       "      <td>115.33</td>\n",
       "      <td>14.44</td>\n",
       "      <td>47</td>\n",
       "      <td>0</td>\n",
       "      <td>5.41</td>\n",
       "      <td>AU</td>\n",
       "      <td>1603902994</td>\n",
       "    </tr>\n",
       "    <tr>\n",
       "      <th>3</th>\n",
       "      <td>73.51</td>\n",
       "      <td>80.55</td>\n",
       "      <td>-15.47</td>\n",
       "      <td>93</td>\n",
       "      <td>28</td>\n",
       "      <td>9.82</td>\n",
       "      <td>RU</td>\n",
       "      <td>1603902994</td>\n",
       "    </tr>\n",
       "    <tr>\n",
       "      <th>4</th>\n",
       "      <td>42.60</td>\n",
       "      <td>-73.97</td>\n",
       "      <td>8.33</td>\n",
       "      <td>90</td>\n",
       "      <td>100</td>\n",
       "      <td>0.53</td>\n",
       "      <td>US</td>\n",
       "      <td>1603902853</td>\n",
       "    </tr>\n",
       "    <tr>\n",
       "      <th>5</th>\n",
       "      <td>33.07</td>\n",
       "      <td>107.03</td>\n",
       "      <td>10.84</td>\n",
       "      <td>79</td>\n",
       "      <td>90</td>\n",
       "      <td>0.42</td>\n",
       "      <td>CN</td>\n",
       "      <td>1603902994</td>\n",
       "    </tr>\n",
       "    <tr>\n",
       "      <th>6</th>\n",
       "      <td>63.05</td>\n",
       "      <td>179.32</td>\n",
       "      <td>-3.49</td>\n",
       "      <td>96</td>\n",
       "      <td>46</td>\n",
       "      <td>6.36</td>\n",
       "      <td>RU</td>\n",
       "      <td>1603902994</td>\n",
       "    </tr>\n",
       "    <tr>\n",
       "      <th>7</th>\n",
       "      <td>-21.15</td>\n",
       "      <td>149.20</td>\n",
       "      <td>20.00</td>\n",
       "      <td>94</td>\n",
       "      <td>31</td>\n",
       "      <td>3.28</td>\n",
       "      <td>AU</td>\n",
       "      <td>1603902994</td>\n",
       "    </tr>\n",
       "    <tr>\n",
       "      <th>8</th>\n",
       "      <td>71.92</td>\n",
       "      <td>114.08</td>\n",
       "      <td>-14.95</td>\n",
       "      <td>91</td>\n",
       "      <td>100</td>\n",
       "      <td>6.05</td>\n",
       "      <td>RU</td>\n",
       "      <td>1603902994</td>\n",
       "    </tr>\n",
       "    <tr>\n",
       "      <th>9</th>\n",
       "      <td>-34.58</td>\n",
       "      <td>150.86</td>\n",
       "      <td>15.56</td>\n",
       "      <td>88</td>\n",
       "      <td>100</td>\n",
       "      <td>0.45</td>\n",
       "      <td>AU</td>\n",
       "      <td>1603902995</td>\n",
       "    </tr>\n",
       "  </tbody>\n",
       "</table>\n",
       "</div>"
      ],
      "text/plain": [
       "     Lat     Lng  Max Temp  Humidity  Cloudiness  Wind Speed Country  \\\n",
       "0 -23.12 -134.97     23.67        82          99        6.10      PF   \n",
       "1 -46.19  168.86      8.89        90          93        0.89      NZ   \n",
       "2 -33.65  115.33     14.44        47           0        5.41      AU   \n",
       "3  73.51   80.55    -15.47        93          28        9.82      RU   \n",
       "4  42.60  -73.97      8.33        90         100        0.53      US   \n",
       "5  33.07  107.03     10.84        79          90        0.42      CN   \n",
       "6  63.05  179.32     -3.49        96          46        6.36      RU   \n",
       "7 -21.15  149.20     20.00        94          31        3.28      AU   \n",
       "8  71.92  114.08    -14.95        91         100        6.05      RU   \n",
       "9 -34.58  150.86     15.56        88         100        0.45      AU   \n",
       "\n",
       "         Date  \n",
       "0  1603902909  \n",
       "1  1603902994  \n",
       "2  1603902994  \n",
       "3  1603902994  \n",
       "4  1603902853  \n",
       "5  1603902994  \n",
       "6  1603902994  \n",
       "7  1603902994  \n",
       "8  1603902994  \n",
       "9  1603902995  "
      ]
     },
     "execution_count": 191,
     "metadata": {},
     "output_type": "execute_result"
    }
   ],
   "source": [
    "pd.DataFrame(df).head(10)"
   ]
  },
  {
   "cell_type": "code",
   "execution_count": 178,
   "metadata": {},
   "outputs": [
    {
     "ename": "AttributeError",
     "evalue": "'dict' object has no attribute 'describe'",
     "output_type": "error",
     "traceback": [
      "\u001b[1;31m---------------------------------------------------------------------------\u001b[0m",
      "\u001b[1;31mAttributeError\u001b[0m                            Traceback (most recent call last)",
      "\u001b[1;32m<ipython-input-178-f6549fda1381>\u001b[0m in \u001b[0;36m<module>\u001b[1;34m\u001b[0m\n\u001b[1;32m----> 1\u001b[1;33m \u001b[0mcity_data\u001b[0m\u001b[1;33m.\u001b[0m\u001b[0mdescribe\u001b[0m\u001b[1;33m(\u001b[0m\u001b[1;33m)\u001b[0m\u001b[1;33m\u001b[0m\u001b[1;33m\u001b[0m\u001b[0m\n\u001b[0m",
      "\u001b[1;31mAttributeError\u001b[0m: 'dict' object has no attribute 'describe'"
     ]
    }
   ],
   "source": [
    "city_data.describe()"
   ]
  },
  {
   "cell_type": "markdown",
   "metadata": {},
   "source": [
    "## Inspect the data and remove the cities where the humidity > 100%.\n",
    "----\n",
    "Skip this step if there are no cities that have humidity > 100%. "
   ]
  },
  {
   "cell_type": "code",
   "execution_count": 205,
   "metadata": {},
   "outputs": [
    {
     "name": "stdout",
     "output_type": "stream",
     "text": [
      "Number of cities with humidity greater than 100% : 0\n"
     ]
    }
   ],
   "source": [
    "k = 100\n",
    "\n",
    "count_humidity = sum(i > k for i in humidity) \n",
    "print(\"Number of cities with humidity greater than 100% : \" + str(count_humidity))"
   ]
  },
  {
   "cell_type": "code",
   "execution_count": 17,
   "metadata": {},
   "outputs": [
    {
     "data": {
      "text/plain": [
       "Int64Index([], dtype='int64')"
      ]
     },
     "execution_count": 17,
     "metadata": {},
     "output_type": "execute_result"
    }
   ],
   "source": [
    "#  Get the indices of cities that have humidity over 100%.\n"
   ]
  },
  {
   "cell_type": "code",
   "execution_count": 19,
   "metadata": {},
   "outputs": [
    {
     "data": {
      "text/html": [
       "<div>\n",
       "<style scoped>\n",
       "    .dataframe tbody tr th:only-of-type {\n",
       "        vertical-align: middle;\n",
       "    }\n",
       "\n",
       "    .dataframe tbody tr th {\n",
       "        vertical-align: top;\n",
       "    }\n",
       "\n",
       "    .dataframe thead th {\n",
       "        text-align: right;\n",
       "    }\n",
       "</style>\n",
       "<table border=\"1\" class=\"dataframe\">\n",
       "  <thead>\n",
       "    <tr style=\"text-align: right;\">\n",
       "      <th></th>\n",
       "      <th>City</th>\n",
       "      <th>Lat</th>\n",
       "      <th>Lng</th>\n",
       "      <th>Max Temp</th>\n",
       "      <th>Humidity</th>\n",
       "      <th>Cloudiness</th>\n",
       "      <th>Wind Speed</th>\n",
       "      <th>Country</th>\n",
       "      <th>Date</th>\n",
       "    </tr>\n",
       "  </thead>\n",
       "  <tbody>\n",
       "    <tr>\n",
       "      <td>0</td>\n",
       "      <td>butaritari</td>\n",
       "      <td>3.07</td>\n",
       "      <td>172.79</td>\n",
       "      <td>83.32</td>\n",
       "      <td>74</td>\n",
       "      <td>84</td>\n",
       "      <td>10.42</td>\n",
       "      <td>KI</td>\n",
       "      <td>1593605283</td>\n",
       "    </tr>\n",
       "    <tr>\n",
       "      <td>1</td>\n",
       "      <td>yerbogachen</td>\n",
       "      <td>61.28</td>\n",
       "      <td>108.01</td>\n",
       "      <td>79.52</td>\n",
       "      <td>58</td>\n",
       "      <td>20</td>\n",
       "      <td>7.70</td>\n",
       "      <td>RU</td>\n",
       "      <td>1593605121</td>\n",
       "    </tr>\n",
       "    <tr>\n",
       "      <td>2</td>\n",
       "      <td>cape town</td>\n",
       "      <td>-33.93</td>\n",
       "      <td>18.42</td>\n",
       "      <td>73.00</td>\n",
       "      <td>77</td>\n",
       "      <td>27</td>\n",
       "      <td>4.70</td>\n",
       "      <td>ZA</td>\n",
       "      <td>1593605039</td>\n",
       "    </tr>\n",
       "    <tr>\n",
       "      <td>3</td>\n",
       "      <td>touba</td>\n",
       "      <td>8.28</td>\n",
       "      <td>-7.68</td>\n",
       "      <td>79.97</td>\n",
       "      <td>75</td>\n",
       "      <td>82</td>\n",
       "      <td>3.58</td>\n",
       "      <td>CI</td>\n",
       "      <td>1593605284</td>\n",
       "    </tr>\n",
       "    <tr>\n",
       "      <td>4</td>\n",
       "      <td>jamestown</td>\n",
       "      <td>42.10</td>\n",
       "      <td>-79.24</td>\n",
       "      <td>64.00</td>\n",
       "      <td>88</td>\n",
       "      <td>1</td>\n",
       "      <td>6.93</td>\n",
       "      <td>US</td>\n",
       "      <td>1593605284</td>\n",
       "    </tr>\n",
       "  </tbody>\n",
       "</table>\n",
       "</div>"
      ],
      "text/plain": [
       "          City    Lat     Lng  Max Temp  Humidity  Cloudiness  Wind Speed  \\\n",
       "0   butaritari   3.07  172.79     83.32        74          84       10.42   \n",
       "1  yerbogachen  61.28  108.01     79.52        58          20        7.70   \n",
       "2    cape town -33.93   18.42     73.00        77          27        4.70   \n",
       "3        touba   8.28   -7.68     79.97        75          82        3.58   \n",
       "4    jamestown  42.10  -79.24     64.00        88           1        6.93   \n",
       "\n",
       "  Country        Date  \n",
       "0      KI  1593605283  \n",
       "1      RU  1593605121  \n",
       "2      ZA  1593605039  \n",
       "3      CI  1593605284  \n",
       "4      US  1593605284  "
      ]
     },
     "execution_count": 19,
     "metadata": {},
     "output_type": "execute_result"
    }
   ],
   "source": [
    "# Make a new DataFrame equal to the city data to drop all humidity outliers by index.\n",
    "# Passing \"inplace=False\" will make a copy of the city_data DataFrame, which we call \"clean_city_data\".\n"
   ]
  },
  {
   "cell_type": "code",
   "execution_count": null,
   "metadata": {},
   "outputs": [],
   "source": [
    "\n"
   ]
  },
  {
   "cell_type": "markdown",
   "metadata": {},
   "source": [
    "## Plotting the Data\n",
    "* Use proper labeling of the plots using plot titles (including date of analysis) and axes labels.\n",
    "* Save the plotted figures as .pngs."
   ]
  },
  {
   "cell_type": "markdown",
   "metadata": {},
   "source": [
    "## Latitude vs. Temperature Plot"
   ]
  },
  {
   "cell_type": "code",
   "execution_count": 242,
   "metadata": {
    "scrolled": true
   },
   "outputs": [
    {
     "data": {
      "image/png": "[encoded data removed]",
      "text/plain": [
       "<Figure size 432x288 with 1 Axes>"
      ]
     },
     "metadata": {
      "needs_background": "light"
     },
     "output_type": "display_data"
    }
   ],
   "source": [
    "plt.scatter(city_data[\"Lat\"], city_data[\"Max Temp\"], marker='o',color = \"red\", edgecolors= \"black\")\n",
    "plt.title(\"City Latitude vs Max Temperature (10/28/2020)\")\n",
    "\n",
    "\n",
    "plt.ylabel(\"Max Temp (F)\")\n",
    "plt.xlabel(\"Latitude\")\n",
    "plt.ylim(-30,40)\n",
    "plt.xlim(-60, 80)\n",
    "plt.grid()\n",
    "\n",
    "\n",
    "plt.savefig(\"Lat_Vs_Temp.png\")\n",
    "\n",
    "plt.show()"
   ]
  },
  {
   "cell_type": "markdown",
   "metadata": {},
   "source": [
    "## Latitude vs. Humidity Plot"
   ]
  },
  {
   "cell_type": "code",
   "execution_count": 243,
   "metadata": {},
   "outputs": [
    {
     "data": {
      "image/png": "[encoded data removed]",
      "text/plain": [
       "<Figure size 432x288 with 1 Axes>"
      ]
     },
     "metadata": {
      "needs_background": "light"
     },
     "output_type": "display_data"
    }
   ],
   "source": [
    "plt.scatter(city_data[\"Lat\"], city_data[\"Humidity\"], marker='o',color = \"red\", edgecolors= \"black\")\n",
    "plt.title(\"City Latitude vs Humidity (10/28/2020)\")\n",
    "\n",
    "\n",
    "plt.ylabel(\"Humidity\")\n",
    "plt.xlabel(\"Latitide\")\n",
    "plt.ylim(0,110)\n",
    "plt.xlim(-60, 80)\n",
    "plt.grid()\n",
    "\n",
    "\n",
    "plt.savefig(\"Lat_Vs_Humidity.png\")\n",
    "\n",
    "plt.show()"
   ]
  },
  {
   "cell_type": "markdown",
   "metadata": {},
   "source": [
    "## Latitude vs. Cloudiness Plot"
   ]
  },
  {
   "cell_type": "code",
   "execution_count": 244,
   "metadata": {},
   "outputs": [
    {
     "data": {
      "image/png": "[encoded data removed]",
      "text/plain": [
       "<Figure size 432x288 with 1 Axes>"
      ]
     },
     "metadata": {
      "needs_background": "light"
     },
     "output_type": "display_data"
    }
   ],
   "source": [
    "plt.scatter(city_data[\"Lat\"], city_data[\"Cloudiness\"], marker='o',color = \"red\", edgecolors= \"black\")\n",
    "plt.title(\"City Latitude vs Cloudiness (10/28/2020)\")\n",
    "\n",
    "\n",
    "plt.ylabel(\"Cloudiness\")\n",
    "plt.xlabel(\"Latitide\")\n",
    "plt.ylim(-10,110)\n",
    "plt.xlim(-60, 80)\n",
    "plt.grid()\n",
    "\n",
    "\n",
    "plt.savefig(\"Lat_Vs_Cloudiness.png\")\n",
    "\n",
    "plt.show()"
   ]
  },
  {
   "cell_type": "markdown",
   "metadata": {},
   "source": [
    "## Latitude vs. Wind Speed Plot"
   ]
  },
  {
   "cell_type": "code",
   "execution_count": 245,
   "metadata": {},
   "outputs": [
    {
     "data": {
      "image/png": "[encoded data removed]",
      "text/plain": [
       "<Figure size 432x288 with 1 Axes>"
      ]
     },
     "metadata": {
      "needs_background": "light"
     },
     "output_type": "display_data"
    }
   ],
   "source": [
    "plt.scatter(city_data[\"Lat\"], city_data[\"Wind Speed\"], marker='o',color = \"red\", edgecolors= \"black\")\n",
    "plt.title(\"City Latitude vs Wind Speed (10/28/2020)\")\n",
    "\n",
    "\n",
    "plt.ylabel(\"Wind Speed\")\n",
    "plt.xlabel(\"Latitide\")\n",
    "plt.ylim(0,20)\n",
    "plt.xlim(-60, 80)\n",
    "plt.grid()\n",
    "\n",
    "\n",
    "plt.savefig(\"Lat_Vs_WindSpeed.png\")\n",
    "\n",
    "plt.show()"
   ]
  },
  {
   "cell_type": "markdown",
   "metadata": {},
   "source": [
    "## Linear Regression"
   ]
  },
  {
   "cell_type": "code",
   "execution_count": 24,
   "metadata": {},
   "outputs": [],
   "source": []
  },
  {
   "cell_type": "markdown",
   "metadata": {},
   "source": [
    "####  Northern Hemisphere - Max Temp vs. Latitude Linear Regression"
   ]
  },
  {
   "cell_type": "code",
   "execution_count": 25,
   "metadata": {},
   "outputs": [
    {
     "name": "stdout",
     "output_type": "stream",
     "text": [
      "The r-value is: 0.46937863826630627\n"
     ]
    },
    {
     "data": {
      "image/png": "[encoded data removed]",
      "text/plain": [
       "<Figure size 432x288 with 1 Axes>"
      ]
     },
     "metadata": {
      "needs_background": "light"
     },
     "output_type": "display_data"
    }
   ],
   "source": []
  },
  {
   "cell_type": "markdown",
   "metadata": {},
   "source": [
    "####  Southern Hemisphere - Max Temp vs. Latitude Linear Regression"
   ]
  },
  {
   "cell_type": "code",
   "execution_count": 26,
   "metadata": {},
   "outputs": [
    {
     "name": "stdout",
     "output_type": "stream",
     "text": [
      "The r-value is: 0.6082708688906918\n"
     ]
    },
    {
     "data": {
      "image/png": "[encoded data removed]",
      "text/plain": [
       "<Figure size 432x288 with 1 Axes>"
      ]
     },
     "metadata": {
      "needs_background": "light"
     },
     "output_type": "display_data"
    }
   ],
   "source": []
  },
  {
   "cell_type": "markdown",
   "metadata": {},
   "source": [
    "####  Northern Hemisphere - Humidity (%) vs. Latitude Linear Regression"
   ]
  },
  {
   "cell_type": "code",
   "execution_count": 27,
   "metadata": {},
   "outputs": [
    {
     "name": "stdout",
     "output_type": "stream",
     "text": [
      "The r-value is: 0.000543987878808455\n"
     ]
    },
    {
     "data": {
      "image/png": "[encoded data removed]",
      "text/plain": [
       "<Figure size 432x288 with 1 Axes>"
      ]
     },
     "metadata": {
      "needs_background": "light"
     },
     "output_type": "display_data"
    }
   ],
   "source": []
  },
  {
   "cell_type": "markdown",
   "metadata": {},
   "source": [
    "####  Southern Hemisphere - Humidity (%) vs. Latitude Linear Regression"
   ]
  },
  {
   "cell_type": "code",
   "execution_count": 28,
   "metadata": {},
   "outputs": [
    {
     "name": "stdout",
     "output_type": "stream",
     "text": [
      "The r-value is: 0.014985174297345524\n"
     ]
    },
    {
     "data": {
      "image/png": "[encoded data removed]",
      "text/plain": [
       "<Figure size 432x288 with 1 Axes>"
      ]
     },
     "metadata": {
      "needs_background": "light"
     },
     "output_type": "display_data"
    }
   ],
   "source": []
  },
  {
   "cell_type": "markdown",
   "metadata": {},
   "source": [
    "####  Northern Hemisphere - Cloudiness (%) vs. Latitude Linear Regression"
   ]
  },
  {
   "cell_type": "code",
   "execution_count": 29,
   "metadata": {},
   "outputs": [
    {
     "name": "stdout",
     "output_type": "stream",
     "text": [
      "The r-value is: 0.0020898727664228514\n"
     ]
    },
    {
     "data": {
      "image/png": "[encoded data removed]",
      "text/plain": [
       "<Figure size 432x288 with 1 Axes>"
      ]
     },
     "metadata": {
      "needs_background": "light"
     },
     "output_type": "display_data"
    }
   ],
   "source": []
  },
  {
   "cell_type": "markdown",
   "metadata": {},
   "source": [
    "####  Southern Hemisphere - Cloudiness (%) vs. Latitude Linear Regression"
   ]
  },
  {
   "cell_type": "code",
   "execution_count": 30,
   "metadata": {},
   "outputs": [
    {
     "name": "stdout",
     "output_type": "stream",
     "text": [
      "The r-value is: 0.0035263772085582894\n"
     ]
    },
    {
     "data": {
      "image/png": "[encoded data removed]",
      "text/plain": [
       "<Figure size 432x288 with 1 Axes>"
      ]
     },
     "metadata": {
      "needs_background": "light"
     },
     "output_type": "display_data"
    }
   ],
   "source": []
  },
  {
   "cell_type": "markdown",
   "metadata": {},
   "source": [
    "####  Northern Hemisphere - Wind Speed (mph) vs. Latitude Linear Regression"
   ]
  },
  {
   "cell_type": "code",
   "execution_count": 31,
   "metadata": {},
   "outputs": [
    {
     "name": "stdout",
     "output_type": "stream",
     "text": [
      "The r-value is: 0.04019723576144484\n"
     ]
    },
    {
     "data": {
      "image/png": "[encoded data removed]",
      "text/plain": [
       "<Figure size 432x288 with 1 Axes>"
      ]
     },
     "metadata": {
      "needs_background": "light"
     },
     "output_type": "display_data"
    }
   ],
   "source": []
  },
  {
   "cell_type": "markdown",
   "metadata": {},
   "source": [
    "####  Southern Hemisphere - Wind Speed (mph) vs. Latitude Linear Regression"
   ]
  },
  {
   "cell_type": "code",
   "execution_count": 32,
   "metadata": {},
   "outputs": [
    {
     "name": "stdout",
     "output_type": "stream",
     "text": [
      "The r-value is: 0.017128274759839232\n"
     ]
    },
    {
     "data": {
      "image/png": "[encoded data removed]",
      "text/plain": [
       "<Figure size 432x288 with 1 Axes>"
      ]
     },
     "metadata": {
      "needs_background": "light"
     },
     "output_type": "display_data"
    }
   ],
   "source": []
  },
  {
   "cell_type": "code",
   "execution_count": null,
   "metadata": {},
   "outputs": [],
   "source": []
  }
 ],
 "metadata": {
  "anaconda-cloud": {},
  "kernel_info": {
   "name": "python3"
  },
  "kernelspec": {
   "display_name": "Python 3",
   "language": "python",
   "name": "python3"
  },
  "language_info": {
   "codemirror_mode": {
    "name": "ipython",
    "version": 3
   },
   "file_extension": ".py",
   "mimetype": "text/x-python",
   "name": "python",
   "nbconvert_exporter": "python",
   "pygments_lexer": "ipython3",
   "version": "3.8.3"
  },
  "latex_envs": {
   "LaTeX_envs_menu_present": true,
   "autoclose": false,
   "autocomplete": true,
   "bibliofile": "biblio.bib",
   "cite_by": "apalike",
   "current_citInitial": 1,
   "eqLabelWithNumbers": true,
   "eqNumInitial": 1,
   "hotkeys": {
    "equation": "Ctrl-E",
    "itemize": "Ctrl-I"
   },
   "labels_anchors": false,
   "latex_user_defs": false,
   "report_style_numbering": false,
   "user_envs_cfg": false
  },
  "nteract": {
   "version": "0.12.3"
  }
 },
 "nbformat": 4,
 "nbformat_minor": 2
}
